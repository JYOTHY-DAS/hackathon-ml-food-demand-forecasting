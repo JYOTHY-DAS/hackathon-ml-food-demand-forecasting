{
 "cells": [
  {
   "cell_type": "markdown",
   "metadata": {},
   "source": []
  },
  {
   "cell_type": "code",
   "execution_count": null,
   "metadata": {
    "vscode": {
     "languageId": "plaintext"
    }
   },
   "outputs": [],
   "source": [
    "# Filter rows where checkout_price < base_price\n",
    "df_filtered = final_train_df[final_train_df['checkout_price'] < final_train_df['base_price']].copy()\n",
    "\n",
    "# Calculate Discount Percentage\n",
    "df_filtered['discount'] = ((df_filtered['base_price'] - df_filtered['checkout_price']) / df_filtered['base_price']) * 100\n",
    "\n",
    "display(df_filtered)"
   ]
  }
 ],
 "metadata": {
  "language_info": {
   "name": "python"
  }
 },
 "nbformat": 4,
 "nbformat_minor": 2
}
